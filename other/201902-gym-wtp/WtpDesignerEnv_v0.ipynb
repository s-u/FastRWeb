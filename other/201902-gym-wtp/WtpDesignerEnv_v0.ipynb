{
  "nbformat": 4,
  "nbformat_minor": 0,
  "metadata": {
    "colab": {
      "name": "WtpDesignerEnv_v0.ipynb",
      "version": "0.3.2",
      "provenance": [],
      "collapsed_sections": [],
      "toc_visible": true,
      "include_colab_link": true
    },
    "kernelspec": {
      "name": "python3",
      "display_name": "Python 3"
    }
  },
  "cells": [
    {
      "cell_type": "markdown",
      "metadata": {
        "id": "view-in-github",
        "colab_type": "text"
      },
      "source": [
        "<a href=\"https://colab.research.google.com/github/shadiakiki1986/FastRWeb/blob/master/other/201902-gym-wtp/WtpDesignerEnv_v0.ipynb\" target=\"_parent\"><img src=\"https://colab.research.google.com/assets/colab-badge.svg\" alt=\"Open In Colab\"/></a>"
      ]
    },
    {
      "metadata": {
        "id": "Za0nLGHy5jyP",
        "colab_type": "text"
      },
      "cell_type": "markdown",
      "source": [
        "# Water Treatment Plant designer\n",
        "\n",
        "This notebook demonstrates a simulation environment for the design of a water treatment plant as well as training an agent to design the WTP to improve the feed water quality.\n",
        "\n",
        "The simulation is then used to train a feed-forward neural network to propose a water treatment plant design based on water quality parameters.\n",
        "\n",
        "The water parameters are low/high level of: turbidity, hardness, bacteria.\n",
        "\n",
        "The allowed elements in the system are: pipe, sand filter, softener, UV.\n",
        "\n",
        "This notebook is part of [gym-wtp](https://github.com/shadiakiki1986/ml-competitions/tree/master/other/201902-gym-wtp)"
      ]
    },
    {
      "metadata": {
        "id": "MPHTGuXa5gzc",
        "colab_type": "text"
      },
      "cell_type": "markdown",
      "source": [
        "## Install pre-requisites\n",
        "\n",
        "The main requirements for this notebook are [openai/gym](https://github.com/openai/gym/) and [rlworkgroup/garage](https://github.com/rlworkgroup/garage)"
      ]
    },
    {
      "metadata": {
        "id": "NiIjx-0Rwjze",
        "colab_type": "code",
        "colab": {}
      },
      "cell_type": "code",
      "source": [
        "# Install openai/gym\n",
        "!pip install gym | tail"
      ],
      "execution_count": 0,
      "outputs": []
    },
    {
      "metadata": {
        "colab_type": "code",
        "id": "DJZUfiXPFO68",
        "colab": {}
      },
      "cell_type": "code",
      "source": [
        "%%shell\n",
        "\n",
        "# Install rlworkgroup/garage\n",
        "# Copied from https://github.com/shadiakiki1986/garage/blob/shadi-example_jupyter/examples/jupyter/trpo_gym_tf_cartpole.ipynb\n",
        "\n",
        "echo \"abcd\" > mujoco_fake_key\n",
        "\n",
        "# FIXME should be udpated to \"rlworkgroup\" once PR is merged\n",
        "# https://github.com/rlworkgroup/garage/pull/476\n",
        "# git clone --depth 1 https://github.com/rlworkgroup/garage/\n",
        "git clone --branch shadi-example_jupyter --depth 1 https://github.com/shadiakiki1986/garage.git\n",
        "\n",
        "cd garage\n",
        "bash scripts/setup_colab.sh --mjkey ../mujoco_fake_key --no-modify-bashrc > /dev/null"
      ],
      "execution_count": 0,
      "outputs": []
    },
    {
      "metadata": {
        "id": "TXWtR1vm99vx",
        "colab_type": "code",
        "colab": {}
      },
      "cell_type": "code",
      "source": [
        "raise Exception(\"Please restart your runtime so that the installed dependencies for 'garage' can be loaded, and then resume running the notebook\")"
      ],
      "execution_count": 0,
      "outputs": []
    },
    {
      "metadata": {
        "id": "iMQ4ibxk8jQw",
        "colab_type": "text"
      },
      "cell_type": "markdown",
      "source": [
        "\n",
        "\n",
        "---\n",
        "\n",
        "\n",
        "\n",
        "---\n",
        "\n",
        "\n",
        "\n",
        "---\n",
        "\n"
      ]
    },
    {
      "metadata": {
        "id": "34oLOKVb5t8l",
        "colab_type": "text"
      },
      "cell_type": "markdown",
      "source": [
        "## Simulation environment\n",
        "\n",
        "Create the environment that simulates a water sample going through a water treatment plant (WTP).\n",
        "\n",
        "It is done here in two parts\n",
        "1. a function `act_on_water` which is the core calculator of state transitions\n",
        "2. a `openai/gym`environment class `WtpDesignerEnv_v0` that wraps `act_on_water` and handles everything other than state transition"
      ]
    },
    {
      "metadata": {
        "id": "pmQmWOv_Vz7P",
        "colab_type": "text"
      },
      "cell_type": "markdown",
      "source": [
        "### State transition function"
      ]
    },
    {
      "metadata": {
        "id": "MTFzvBH4wm21",
        "colab_type": "code",
        "outputId": "affb2b18-fc34-40ea-cf41-43958d3cb467",
        "colab": {
          "base_uri": "https://localhost:8080/",
          "height": 179
        }
      },
      "cell_type": "code",
      "source": [
        "# Create a function for the state transitions\n",
        "\n",
        "import gym\n",
        "from gym import spaces\n",
        "#from gym.utils import seeding\n",
        "import numpy as np\n",
        "import random\n",
        "\n",
        "\n",
        "\n",
        "def act_on_water(water_in, water_parameter):\n",
        "  \"\"\"\n",
        "  Function for\n",
        "  - transition from current state of water parameters (argument `water_parameters`)\n",
        "  - using the water treatment elements (argument `water_in`)\n",
        "  - to the next state of water parameters (output of function)\n",
        "  \n",
        "  Parameters\n",
        "  - water_in: water sample parameters before \"filtering\"\n",
        "  - water_parameter: specific parameter that is being filtered\n",
        "  \n",
        "  Returns\n",
        "  - water_out: water sample parameters after the targeted parameter\n",
        "  - reward:\n",
        "    - if water quality is improvable and made improvement and improvement is relevant, then +2\n",
        "    - if water quality is not improvable and did not try to make improvement, then +1\n",
        "    - if water quality is improvable and made improvement but improvement is not relevant, then 0\n",
        "    - if water quality is improvable and did not make improvement, then -1\n",
        "    - if water quality is not improvable and tried to make improvement, then -2\n",
        "  \"\"\"\n",
        "  # debugging\n",
        "  #print(\"water_in\", water_in, \"water_parameter\", water_parameter)\n",
        "  \n",
        "  # utility variable\n",
        "  is_improvable = any(water_in[k] for k in water_in)\n",
        "  \n",
        "  # if chose pipe (do nothing)\n",
        "  if water_parameter is None:\n",
        "    # if any parameter is \"high\"\n",
        "    if is_improvable:\n",
        "      # water was improvable but didn't try\n",
        "      return water_in, -1\n",
        "    \n",
        "    # water was not improvable to begin with\n",
        "    return water_in, +1\n",
        "\n",
        "  # sanity check\n",
        "  if water_parameter not in water_in:\n",
        "    raise ValueError(\"water parameter = %s not a property of the water\"%water_parameter)\n",
        "\n",
        "  # if water is not improvable to begin with, but tried to make an improvement\n",
        "  if not is_improvable:\n",
        "    return water_in, -2\n",
        "    \n",
        "  # water is improvable, but chose an irrelevant parameter\n",
        "  if not water_in[water_parameter]:\n",
        "    # returning a reward of +1 here caused the best policy to use a few\n",
        "    # irrelevant target parameters at first (to ramp up points)\n",
        "    # and then start installing the relevant elements.\n",
        "    # This is similar to a salesman who sells useless WTP elements first\n",
        "    # to ramp up sales, and then sells the right system to close.\n",
        "    return water_in, 0\n",
        "  \n",
        "  # water is improvable, and chose a relevant parameter\n",
        "  water_out = water_in.copy()\n",
        "  water_out[water_parameter] = False\n",
        "  return water_out, +2\n",
        "\n",
        "\n",
        "# smoke testing via a few examples\n",
        "print(\"Here are some examples of input/output pairs for the state transition function `act_on_water` defined above\")\n",
        "print(\"Turbidity = True  <=> Turbidity is high in the water sample\")\n",
        "print(\"Turbidity = False <=> Turbidity is low in the water sample\")\n",
        "print(\"\")\n",
        "print(\"input turbidity: High, action: turbidity, next state/reward = \",      act_on_water({\"turbidity\": True }, \"turbidity\"))\n",
        "print(\"input turbidity: Low , action: turbidity, next state/reward = \",      act_on_water({\"turbidity\": False}, \"turbidity\"))\n",
        "print(\"input turbidity: High, action: pipe, next state/reward = \",      act_on_water({\"turbidity\": True }, None))\n",
        "print(\"input turbidity: Low , action: pipe, next state/reward = \",      act_on_water({\"turbidity\": False}, None))\n",
        "try:\n",
        "  print(\"input turbidity: High, action: hardness, next state/reward = \", act_on_water({\"turbidity\": True }, \"hardness\"))\n",
        "except:\n",
        "  print(\"input turbidity: High, action: hardness, next state/reward = \", \"error: parameter not in water\")\n",
        "  \n",
        "#print(\"state = 1, action: pipe\",      act_on_water(1, None))"
      ],
      "execution_count": 5,
      "outputs": [
        {
          "output_type": "stream",
          "text": [
            "Here are some examples of input/output pairs for the state transition function `act_on_water` defined above\n",
            "Turbidity = True  <=> Turbidity is high in the water sample\n",
            "Turbidity = False <=> Turbidity is low in the water sample\n",
            "\n",
            "input turbidity: High, action: turbidity, next state/reward =  ({'turbidity': False}, 2)\n",
            "input turbidity: Low , action: turbidity, next state/reward =  ({'turbidity': False}, -2)\n",
            "input turbidity: High, action: pipe, next state/reward =  ({'turbidity': True}, -1)\n",
            "input turbidity: Low , action: pipe, next state/reward =  ({'turbidity': False}, 1)\n",
            "input turbidity: High, action: hardness, next state/reward =  error: parameter not in water\n"
          ],
          "name": "stdout"
        }
      ]
    },
    {
      "metadata": {
        "id": "5wF-6ZmDV2zO",
        "colab_type": "text"
      },
      "cell_type": "markdown",
      "source": [
        "### Openai/gym environment class"
      ]
    },
    {
      "metadata": {
        "id": "oBv4mojWRT6v",
        "colab_type": "code",
        "colab": {}
      },
      "cell_type": "code",
      "source": [
        "# Create a gym env that simulates the current water treatment plant\n",
        "# Based on https://github.com/openai/gym/blob/master/gym/envs/toy_text/nchain.py\n",
        "\n",
        "# Gym env\n",
        "class WtpDesignerEnv_v0(gym.Env):\n",
        "    \"\"\"Water Treatment Plant environment\n",
        "    \n",
        "    This is a simulation of a water treatment plant (WTP).\n",
        "    \n",
        "    Observation:\n",
        "      Parameters in water\n",
        "      Type: Dict of 3 keys, each of which is Discrete(2)\n",
        "      turbidity       True/False (= High/Low)\n",
        "      Hardness  True/False (= High/Low)\n",
        "      Bacteria  True/False (= High/Low)\n",
        "      \n",
        "    Actions:\n",
        "      WTP Element to implement at i-th stage\n",
        "      Type: Discrete(4)\n",
        "      0 pipe\n",
        "      2 sediment\n",
        "      3 softener\n",
        "      4 uv\n",
        "      \n",
        "    Reward: check function \"act_on_water\"\n",
        "      \n",
        "    Episode termination:\n",
        "      All elements of WTP are chosen\n",
        "    \"\"\"\n",
        "    def __init__(self, attempts_max = 1000):\n",
        "      \n",
        "        # targets treated by each element\n",
        "        self.wtp_elements = [None, \"turbidity\", \"hardness\", \"bacteria\"]\n",
        "        \n",
        "        # utility variable holding names of elements\n",
        "        self.element_names = [\"pipe\", \"sand filter\", \"softener\", \"UV\"]\n",
        "        \n",
        "        \n",
        "        # number of elements in the WTP system generated\n",
        "        self.n_elements = 5\n",
        "        \n",
        "         # choose the element for the current step\n",
        "        self.action_space = spaces.Discrete(len(self.wtp_elements))\n",
        "        \n",
        "        # https://github.com/openai/gym/blob/master/gym/spaces/dict_space.py\n",
        "        # the observation space is a Dict of 3 key-value pairs\n",
        "        # Note that the \"FlatDictWrapper\" later just flattens this to a single Discrete(8) observation\n",
        "        # for the sake of being able to use the CategoricalMLPPolicy\n",
        "        self.observation_space = spaces.Dict({\n",
        "            \"turbidity\": spaces.Discrete(2), \n",
        "            \"hardness\": spaces.Discrete(2), \n",
        "            \"bacteria\": spaces.Discrete(2),\n",
        "        })\n",
        "        \n",
        "        self.reset()\n",
        "        #self.seed()\n",
        "\n",
        "    #def seed(self, seed=None):\n",
        "    #    self.np_random, seed = seeding.np_random(seed)\n",
        "    #    return [seed]\n",
        "\n",
        "    def step(self, action):\n",
        "        assert self.action_space.contains(action), \"action not in action space!\"\n",
        "        assert self.element_i < self.n_elements\n",
        "        \n",
        "        # increment number of attempts taken\n",
        "        self.element_i += 1\n",
        "\n",
        "        # calculate reward of this element\n",
        "        wtp_i = self.wtp_elements[action]\n",
        "        self.state, reward = act_on_water(self.state, wtp_i)\n",
        "        #print(\"\\t state + element -> state after + reward\", wtp_i, self.state, reward_i)\n",
        "                                      \n",
        "        # init\n",
        "        done = False\n",
        "\n",
        "        # allow a maximum number of attempts to get the WTP selection to work\n",
        "        if self.element_i >= self.n_elements:\n",
        "          done = True\n",
        "          \n",
        "        return self.state, reward, done, {}\n",
        "      \n",
        "    def reset(self, s0=None):\n",
        "      # s0 - desired state\n",
        "      if s0 is None:\n",
        "        # if the initial state is unspecified, flip a fair coin to\n",
        "        # decide on high/low levels of each parameter in the water sample\n",
        "        s0 = {\n",
        "          \"turbidity\":  np.random.rand() < 0.5,\n",
        "          \"hardness\": np.random.rand() < 0.5,\n",
        "          \"bacteria\": np.random.rand() < 0.5,                \n",
        "        }\n",
        "      self.state = s0.copy()\n",
        "      self.element_i = 0\n",
        "      return self.state"
      ],
      "execution_count": 0,
      "outputs": []
    },
    {
      "metadata": {
        "id": "CfZWapDiV7-x",
        "colab_type": "text"
      },
      "cell_type": "markdown",
      "source": [
        "Smoke-test the environment implementation above by performing\n",
        "grid search to find the optimal water treatment plant system for a random water sample"
      ]
    },
    {
      "metadata": {
        "id": "Xi3SwHSJO3xm",
        "colab_type": "code",
        "outputId": "6c9d5c16-4c87-40a0-9b68-46f84fc02b6d",
        "colab": {
          "base_uri": "https://localhost:8080/",
          "height": 251
        }
      },
      "cell_type": "code",
      "source": [
        "# some smoke testing\n",
        "print(\"smoke test\")\n",
        "\n",
        "# example\n",
        "env_test = WtpDesignerEnv_v0()\n",
        "state_initial = env_test.reset().copy()\n",
        "print(\"Random initial state: parameters in water sample\", state_initial)\n",
        "\n",
        "print(\"generate grid universe of WTP .. start\")\n",
        "solution = dict(act=None, rew=-99999, water_out=None)\n",
        "done = False\n",
        "\n",
        "# builds all possible wtp of these elements\n",
        "import itertools\n",
        "wtp_all1 = list(itertools.product(range(len(env_test.wtp_elements)), repeat=env_test.n_elements))\n",
        "wtp_all2 = []\n",
        "# append last 2 pipes\n",
        "for wtp_i in wtp_all1:\n",
        "  wtp_i = list(wtp_i)\n",
        "  # 0 is the index of None in env_test.wtp_elements\n",
        "  wtp_i.append(0)\n",
        "  wtp_all2.append(wtp_i)\n",
        "\n",
        "print(\"generate grid universe of WTP .. end\")\n",
        "#print(\"all wtp\")\n",
        "#print(wtp_all2)\n",
        "\n",
        "#############################################\n",
        "\n",
        "print(\"grid search .. start\")\n",
        "\n",
        "# iterate\n",
        "for wtp_i in wtp_all2:\n",
        "  reward_sum = 0\n",
        "  env_test.reset(s0=state_initial)\n",
        "  #print(\"-\"*10)\n",
        "  for action in wtp_i:\n",
        "    water_out, reward_i, done, _ = env_test.step(action)\n",
        "    reward_sum += reward_i\n",
        "    if done:\n",
        "      break\n",
        "    \n",
        "  #print(\"water in\", env_test.state, \"wtp\", [env_test.wtp_elements[x] for x in wtp_i], \"water out\", water_out, \"reward\", reward_sum)\n",
        "  if reward_sum > solution['rew']:\n",
        "    solution['act'] = wtp_i\n",
        "    solution['rew'] = reward_sum\n",
        "    solution['water_out'] = water_out # last result\n",
        "\n",
        "\n",
        "print(\"grid search .. end\")\n",
        "\n",
        "#############################################\n",
        "\n",
        "# show result of grid search\n",
        "print(\"*\"*30)\n",
        "print(\"Results of grid search\")\n",
        "print(\"*\"*30)\n",
        "\n",
        "print(\"water in:\", state_initial)\n",
        "print(\"wtp chosen\", [env_test.element_names[x] for x in solution['act']])\n",
        "print(\"total reward\", solution['rew'])\n",
        "print(\"water out\", solution['water_out'])"
      ],
      "execution_count": 11,
      "outputs": [
        {
          "output_type": "stream",
          "text": [
            "smoke test\n",
            "Random initial state: parameters in water sample {'turbidity': True, 'hardness': False, 'bacteria': True}\n",
            "generate grid universe of WTP .. start\n",
            "generate grid universe of WTP .. end\n",
            "grid search .. start\n",
            "grid search .. end\n",
            "******************************\n",
            "Results of grid search\n",
            "******************************\n",
            "water in: {'turbidity': True, 'hardness': False, 'bacteria': True}\n",
            "wtp chosen ['sand filter', 'UV', 'pipe', 'pipe', 'pipe', 'pipe']\n",
            "total reward 7\n",
            "water out {'turbidity': False, 'hardness': False, 'bacteria': False}\n"
          ],
          "name": "stdout"
        }
      ]
    },
    {
      "metadata": {
        "id": "cARuchY8WyaH",
        "colab_type": "text"
      },
      "cell_type": "markdown",
      "source": [
        "At this stage, the openai/gym environment is ready to be registered for later usage in reinforcement learning."
      ]
    },
    {
      "metadata": {
        "id": "UNoyVv0tA23n",
        "colab_type": "code",
        "colab": {}
      },
      "cell_type": "code",
      "source": [
        "# register the env with gym\n",
        "# https://github.com/openai/gym/tree/master/gym/envs#how-to-create-new-environments-for-gym\n",
        "from gym.envs.registration import register\n",
        "\n",
        "register(\n",
        "    id='WtpDesignerEnv-v0',\n",
        "    #entry_point='gym_foo.envs:FooEnv',\n",
        "    entry_point=WtpDesignerEnv_v0,\n",
        ")\n",
        "\n",
        "# test registration was successful\n",
        "env = gym.make(\"WtpDesignerEnv-v0\")"
      ],
      "execution_count": 0,
      "outputs": []
    },
    {
      "metadata": {
        "id": "Nd-RbAhH6Kx8",
        "colab_type": "text"
      },
      "cell_type": "markdown",
      "source": [
        "## Reinforcement learning"
      ]
    },
    {
      "metadata": {
        "id": "4sKBQ51KWvIw",
        "colab_type": "text"
      },
      "cell_type": "markdown",
      "source": [
        "### Rlworkgroup/garage policy and algorithm"
      ]
    },
    {
      "metadata": {
        "id": "xEewxdhkXPLG",
        "colab_type": "text"
      },
      "cell_type": "markdown",
      "source": [
        "Some class imports"
      ]
    },
    {
      "metadata": {
        "id": "9j8M1L9S6rvU",
        "colab_type": "code",
        "colab": {}
      },
      "cell_type": "code",
      "source": [
        "# The contents of this cell are mostly copied from garage/examples/...\n",
        "\n",
        "from garage.np.baselines import LinearFeatureBaseline\n",
        "from garage.envs import normalize\n",
        "from garage.experiment import run_experiment\n",
        "from garage.tf.algos import TRPO\n",
        "from garage.tf.envs import TfEnv\n",
        "from garage.tf.policies import CategoricalMLPPolicy\n",
        "\n",
        "from garage.experiment import LocalRunner\n",
        "from garage.logger import logger, StdOutput"
      ],
      "execution_count": 0,
      "outputs": []
    },
    {
      "metadata": {
        "id": "zIT1cYbvXQnF",
        "colab_type": "text"
      },
      "cell_type": "markdown",
      "source": [
        "Define a utility class `FlattenDictWrapper2` that will wrap the gym environment and flatten the observation space's multiple components into a single component of higher dimensionality.\n",
        "\n",
        "This is necessary for using the existing `garage.tf.policies.CategoricalMLPPolicy` (garage policy) that supports \"single-output\" environments.\n",
        "\n",
        "This does not affect the quality of the training.\n",
        "\n",
        "Alternatively, a new policy (`garage.tf.policies.DictCategoricalMLPPolicy`) could be implemented without needing the below wrapper."
      ]
    },
    {
      "metadata": {
        "id": "3TSGjJIua47q",
        "colab_type": "code",
        "colab": {}
      },
      "cell_type": "code",
      "source": [
        "class FlattenDictWrapper2(gym.ObservationWrapper):\n",
        "    \"\"\"Flattens selected keys of a Dict observation space into an array.\n",
        "    \n",
        "    Based on https://github.com/openai/gym/blob/5404b39d06f72012f562ec41f60734bd4b5ceb4b/gym/wrappers/dict.py\n",
        "    \n",
        "    Notice that there already is an implementation in gym.wrappers\n",
        "    I tried using it as follows\n",
        "\n",
        "        env = wrappers.FlattenDictWrapper(env, [\"turbidity\", \"hardness\", \"bacteria\"])\n",
        "\n",
        "    but that didn't work\n",
        "    \"\"\"\n",
        "    def __init__(self, env, dict_keys):\n",
        "        super().__init__(env)\n",
        "        self.dict_keys = dict_keys\n",
        "\n",
        "        # Figure out observation_space dimension.\n",
        "        # FIXME this is never used .. ref https://github.com/openai/gym/blob/6497c9f1c6e43066c8945f02ed3ed4d234f45dc1/gym/core.py\n",
        "        size = 1\n",
        "        for key in dict_keys:\n",
        "            shape = self.env.observation_space.spaces[key].n\n",
        "            size *= shape\n",
        "        self.observation_space = gym.spaces.Discrete(size)\n",
        "\n",
        "    def observation(self, observation):\n",
        "        \"\"\"\n",
        "        flatten the dict observation\n",
        "        idea is same as the following\n",
        "        \n",
        "        >>> import itertools\n",
        "        >>> x=np.array(list(itertools.product(range(4), range(3), range(2))))\n",
        "        >>> y=x[:,0]*2*3 + x[:,1]*2 + x[:,2]\n",
        "        >>> y.sort()\n",
        "        >>> y\n",
        "        array([ 0,  1,  2,  3,  4,  5,  6,  7,  8,  9, 10, 11, 12, 13, 14, 15, 16,\n",
        "               17, 18, 19, 20, 21, 22, 23])\n",
        "        \n",
        "        Notice how \"y\" has no duplicates, and hence is a one-to-one mapping from the original matrix \"x\"\n",
        "        \n",
        "        Now convert y back to x\n",
        "        \n",
        "        >>> z1 = y//(2*3)\n",
        "        >>> z2 = (y%(2*3))//2\n",
        "        >>> z3 = (   (y%(2*3))%2  )\n",
        "        >>> z = np.array([np.array(z1), np.array(z2), np.array(z3)]).T\n",
        "        \n",
        "        Notice that z == x\n",
        "        \"\"\"\n",
        "        assert isinstance(observation, dict)\n",
        "        obs = []\n",
        "        dims = []\n",
        "        for key in self.dict_keys:\n",
        "            obs.append(observation[key])\n",
        "            dims.append(self.env.observation_space.spaces[key].n)\n",
        "            \n",
        "        dims = np.array(dims).cumprod()\n",
        "        dims = (dims / dims[0]).astype('int')\n",
        "        \n",
        "        obs = np.array(obs).astype('int')\n",
        "\n",
        "        #print(\"X\"*10)\n",
        "        #print(obs)\n",
        "        #print(dims)\n",
        "\n",
        "        return (obs * dims).sum()\n"
      ],
      "execution_count": 0,
      "outputs": []
    },
    {
      "metadata": {
        "id": "RGo5PBBIZ8Ez",
        "colab_type": "text"
      },
      "cell_type": "markdown",
      "source": [
        "Instantiate the `WtpDesignerEnv-v0` environment, policy, baseline, and TRPO training algorithm.\n",
        "\n",
        "The policy chosen is a fully-connected feed-forward neural network."
      ]
    },
    {
      "metadata": {
        "id": "tx8_cmOe63QK",
        "colab_type": "code",
        "colab": {}
      },
      "cell_type": "code",
      "source": [
        "# Instantiate the environment, policy, baseline, and algorithm for training\n",
        "#----------------------------------\n",
        "from gym import wrappers\n",
        "\n",
        "env = gym.make(\"WtpDesignerEnv-v0\")\n",
        "wq_elements = [\"turbidity\", \"hardness\", \"bacteria\"]\n",
        "env = FlattenDictWrapper2(env, wq_elements)\n",
        "env = TfEnv(normalize(env))\n",
        "\n",
        "policy = CategoricalMLPPolicy(\n",
        "    name=\"policy\", env_spec=env.spec, hidden_sizes=(32, 32))\n",
        "\n",
        "baseline = LinearFeatureBaseline(env_spec=env.spec)\n",
        "\n",
        "\n",
        "algo = TRPO(\n",
        "    env_spec=env.spec,\n",
        "    policy=policy,\n",
        "    baseline=baseline,\n",
        "    max_path_length=5+2, #env.n_elements+2, # add 2 since this is just a safety measure\n",
        "    n_itr=50, # 50 is enough to reach steady state: average return 6.5, max return 8, min return 5\n",
        "    discount=0.99,\n",
        "    max_kl_step=0.01\n",
        ")"
      ],
      "execution_count": 0,
      "outputs": []
    },
    {
      "metadata": {
        "id": "7naFq_15ZUFO",
        "colab_type": "text"
      },
      "cell_type": "markdown",
      "source": [
        "### Train the policy"
      ]
    },
    {
      "metadata": {
        "id": "eBk8B2h36pMw",
        "colab_type": "code",
        "colab": {}
      },
      "cell_type": "code",
      "source": [
        "# start a tensorflow session so that we can keep it open after training and use the trained network to see it performing\n",
        "import tensorflow as tf\n",
        "sess = tf.InteractiveSession()\n",
        "\n",
        "# initialize\n",
        "sess.run(tf.global_variables_initializer())\n"
      ],
      "execution_count": 0,
      "outputs": []
    },
    {
      "metadata": {
        "id": "9_Bs7xW_EGZu",
        "colab_type": "code",
        "colab": {}
      },
      "cell_type": "code",
      "source": [
        "# log to stdout\n",
        "logger.add_output(StdOutput())"
      ],
      "execution_count": 0,
      "outputs": []
    },
    {
      "metadata": {
        "id": "v7LQO4zBp8h4",
        "colab_type": "code",
        "colab": {}
      },
      "cell_type": "code",
      "source": [
        "# Train the policy (neural network) on the environment\n",
        "runner = LocalRunner()\n",
        "\n",
        "runner.setup(algo=algo, env=env)\n",
        "\n",
        "# use n_epochs = 1 for smoke testing\n",
        "runner.train(n_epochs=50, batch_size=4000, plot=False)"
      ],
      "execution_count": 0,
      "outputs": []
    },
    {
      "metadata": {
        "id": "lwHJj_IIH5Pd",
        "colab_type": "code",
        "colab": {
          "base_uri": "https://localhost:8080/",
          "height": 899
        },
        "outputId": "db4a91c5-9b2a-4e33-e34f-9ddde050f71c"
      },
      "cell_type": "code",
      "source": [
        "# re-run 1 epoch just to save the output of training to the notebook\n",
        "# since I clear the output from the previous 50-epoch training to avoid cluttering the notebook\n",
        "runner.train(n_epochs=1, batch_size=4000, plot=False)"
      ],
      "execution_count": 19,
      "outputs": [
        {
          "output_type": "stream",
          "text": [
            "2019-04-02 08:17:18 | epoch #0 | Obtaining samples...\n",
            "2019-04-02 08:17:18 | epoch #0 | Obtaining samples for iteration 0...\n"
          ],
          "name": "stdout"
        },
        {
          "output_type": "stream",
          "text": [
            "0% [##############################] 100% | ETA: 00:00:00\n",
            "Total time elapsed: 00:00:02\n"
          ],
          "name": "stderr"
        },
        {
          "output_type": "stream",
          "text": [
            "2019-04-02 08:17:21 | epoch #0 | Logging diagnostics...\n",
            "2019-04-02 08:17:21 | epoch #0 | Optimizing policy...\n",
            "2019-04-02 08:17:21 | epoch #0 | Computing loss before\n",
            "2019-04-02 08:17:21 | epoch #0 | Computing KL before\n",
            "2019-04-02 08:17:21 | epoch #0 | Optimizing\n",
            "2019-04-02 08:17:21 | epoch #0 | Start CG optimization: #parameters: 1476, #inputs: 800, #subsample_inputs: 800\n",
            "2019-04-02 08:17:21 | epoch #0 | computing loss before\n",
            "2019-04-02 08:17:21 | epoch #0 | performing update\n",
            "2019-04-02 08:17:21 | epoch #0 | computing gradient\n",
            "2019-04-02 08:17:21 | epoch #0 | gradient computed\n",
            "2019-04-02 08:17:21 | epoch #0 | computing descent direction\n",
            "2019-04-02 08:17:21 | epoch #0 | descent direction computed\n",
            "2019-04-02 08:17:21 | epoch #0 | backtrack iters: 3\n",
            "2019-04-02 08:17:21 | epoch #0 | computing loss after\n",
            "2019-04-02 08:17:21 | epoch #0 | optimization finished\n",
            "2019-04-02 08:17:21 | epoch #0 | Computing KL after\n",
            "2019-04-02 08:17:21 | epoch #0 | Computing loss after\n",
            "2019-04-02 08:17:21 | epoch #0 | Fitting baseline...\n",
            "2019-04-02 08:17:21 | epoch #0 | Saving snapshot...\n",
            "2019-04-02 08:17:21 | epoch #0 | Saved\n",
            "2019-04-02 08:17:21 | epoch #0 | Time 3.14 s\n",
            "2019-04-02 08:17:21 | epoch #0 | EpochTime 3.14 s\n",
            "---------------------------------------  -------------\n",
            "AverageDiscountedReturn                    6.38847\n",
            "AverageReturn                              6.495\n",
            "Entropy                                    0.036417\n",
            "EnvExecTime                                0.433037\n",
            "Extras/EpisodeRewardMean                   6.48\n",
            "Iteration                                  0\n",
            "LinearFeatureBaseline/ExplainedVariance    1\n",
            "MaxReturn                                  8\n",
            "MinReturn                                  5\n",
            "NumTrajs                                 800\n",
            "Perplexity                                 1.03709\n",
            "PolicyExecTime                             2.21871\n",
            "ProcessExecTime                            0.117631\n",
            "StdReturn                                  0.876057\n",
            "policy/Entropy                             0.0563612\n",
            "policy/KL                                  0.00738757\n",
            "policy/KLBefore                            7.39714e-11\n",
            "policy/LossAfter                          -0.00629249\n",
            "policy/LossBefore                          5.72205e-09\n",
            "policy/dLoss                               0.00629249\n",
            "---------------------------------------  -------------\n"
          ],
          "name": "stdout"
        },
        {
          "output_type": "execute_result",
          "data": {
            "text/plain": [
              "6.495"
            ]
          },
          "metadata": {
            "tags": []
          },
          "execution_count": 19
        }
      ]
    },
    {
      "metadata": {
        "id": "mGOx_gaAZgc9",
        "colab_type": "text"
      },
      "cell_type": "markdown",
      "source": [
        "### Conduct some experiments using the trained policy"
      ]
    },
    {
      "metadata": {
        "id": "z7L2O_lXad9Q",
        "colab_type": "text"
      },
      "cell_type": "markdown",
      "source": [
        "Define some utility variables and functions"
      ]
    },
    {
      "metadata": {
        "id": "zEXyy1NhiCOB",
        "colab_type": "code",
        "outputId": "e335dd87-32d4-4384-b19a-ed1702e4f7a5",
        "colab": {
          "base_uri": "https://localhost:8080/",
          "height": 179
        }
      },
      "cell_type": "code",
      "source": [
        "# utility function/variable for experiments below\n",
        "\n",
        "# list of water elements\n",
        "wq_elements = [\"turbidity\", \"hardness\", \"bacteria\"]\n",
        "\n",
        "def wqi_to_watersample(wqi):\n",
        "  \"\"\"\n",
        "  Convert an index to water-quality table to a dictionary of parameter-value key-value pairs.\n",
        "  The list which corresponds to the index is `wq_elements` (defined above).\n",
        "  In other words, one-hot-encode of the input integer index\n",
        "  e.g.\n",
        "  wqi_to_watersample(0) == {'turbidity': False, 'hardness': False, 'bacteria': False}\n",
        "  wqi_to_watersample(1) == {'turbidity': False, 'hardness': False, 'bacteria': True}\n",
        "  ...\n",
        "  \n",
        "  Check the list of examples below\n",
        "  \"\"\"\n",
        "  # https://stackoverflow.com/a/699891\n",
        "  #x = \"{0:b}\".format(wqi)\n",
        "  x = format(wqi, '03b')\n",
        "  x = list(x)\n",
        "  x = x[::-1] # reverse (FIXME!?)\n",
        "  #print(x)\n",
        "  x = [bool(int(y)) for y in x]\n",
        "  x = dict(zip(wq_elements,x))\n",
        "  return x\n",
        "\n",
        "print(\"Example input-output pairs for `wqi_to_watersample`\")\n",
        "for i in range(8):\n",
        "  print(\"input\", i, \", output\", wqi_to_watersample(i))"
      ],
      "execution_count": 22,
      "outputs": [
        {
          "output_type": "stream",
          "text": [
            "Example input-output pairs for `wqi_to_watersample`\n",
            "input 0 , output {'turbidity': False, 'hardness': False, 'bacteria': False}\n",
            "input 1 , output {'turbidity': True, 'hardness': False, 'bacteria': False}\n",
            "input 2 , output {'turbidity': False, 'hardness': True, 'bacteria': False}\n",
            "input 3 , output {'turbidity': True, 'hardness': True, 'bacteria': False}\n",
            "input 4 , output {'turbidity': False, 'hardness': False, 'bacteria': True}\n",
            "input 5 , output {'turbidity': True, 'hardness': False, 'bacteria': True}\n",
            "input 6 , output {'turbidity': False, 'hardness': True, 'bacteria': True}\n",
            "input 7 , output {'turbidity': True, 'hardness': True, 'bacteria': True}\n"
          ],
          "name": "stdout"
        }
      ]
    },
    {
      "metadata": {
        "id": "5M61vZ-LFRUs",
        "colab_type": "code",
        "outputId": "4a1fc676-eadf-495b-ba57-ed18985506b2",
        "colab": {
          "base_uri": "https://localhost:8080/",
          "height": 209
        }
      },
      "cell_type": "code",
      "source": [
        "# Utility function for experiments below\n",
        "\n",
        "# convert to dicts for readability\n",
        "#wtp_elements = [None, \"turbidity\", \"hardness\", \"bacteria\"]\n",
        "# rename the elements for readability\n",
        "wtp_elements = [\"pipe\", \"sand filter\", \"softener\", \"UV\"]\n",
        "\n",
        "import pandas as pd\n",
        "\n",
        "def convert_results_to_df(obs_all, act_all, out_all, rew_all):\n",
        "    \"\"\"\n",
        "    Gather lists of observations, actions, outputs, rewards\n",
        "    into a pandas dataframe\n",
        "    \"\"\"\n",
        "    df = []\n",
        "    for i in range(len(obs_all)):\n",
        "      in_i = wqi_to_watersample(obs_all[i])\n",
        "      wtp_i = [wtp_elements[x] for x in act_all[i]]\n",
        "      out_i = wqi_to_watersample(out_all[i])\n",
        "      df.append({\n",
        "          \"in_turbidity\": in_i[\"turbidity\"],\n",
        "          \"in_hardness\": in_i[\"hardness\"],\n",
        "          \"in_bacteria\": in_i[\"bacteria\"],\n",
        "          \"wtp/1\": wtp_i[0],\n",
        "          \"wtp/2\": wtp_i[1],\n",
        "          \"wtp/3\": wtp_i[2],\n",
        "          \"wtp/4\": wtp_i[3],\n",
        "          \"wtp/5\": wtp_i[4],\n",
        "          \"out_turbidity\": out_i[\"turbidity\"],\n",
        "          \"out_hardness\": out_i[\"hardness\"],\n",
        "          \"out_bacteria\": out_i[\"bacteria\"],\n",
        "          \"reward\": rew_all[i],\n",
        "      })\n",
        "\n",
        "    # gather results in pandas dataframe for simplicity of viewing\n",
        "    df = pd.DataFrame(df)\n",
        "    df = df[[\n",
        "          \"in_turbidity\",\n",
        "          \"in_hardness\",\n",
        "          \"in_bacteria\",\n",
        "          \"wtp/1\",\n",
        "          \"wtp/2\",\n",
        "          \"wtp/3\",\n",
        "          \"wtp/4\",\n",
        "          \"wtp/5\",\n",
        "          \"out_turbidity\",\n",
        "          \"out_hardness\",\n",
        "          \"out_bacteria\",\n",
        "          \"reward\",\n",
        "    ]]\n",
        "\n",
        "    df = df.sort_values([\"in_turbidity\", \"in_hardness\", \"in_bacteria\", \"reward\"]).set_index([\"in_turbidity\", \"in_hardness\", \"in_bacteria\"])\n",
        "    \n",
        "    return df\n",
        "\n",
        "# Show an example usage of the above\n",
        "print(\"Example usage of utility function convert_results_to_df\")\n",
        "print(\"Check the function call here for seeing the input\")\n",
        "convert_results_to_df([0,1,2], [ [0,1,2,0,0], [0,1,2,0,0], [0,1,2,0,0]], [0,1,2], [0,0,0])"
      ],
      "execution_count": 24,
      "outputs": [
        {
          "output_type": "stream",
          "text": [
            "Example usage of utility function convert_results_to_df\n",
            "Check the function call here for seeing the input\n"
          ],
          "name": "stdout"
        },
        {
          "output_type": "execute_result",
          "data": {
            "text/html": [
              "<div>\n",
              "<style scoped>\n",
              "    .dataframe tbody tr th:only-of-type {\n",
              "        vertical-align: middle;\n",
              "    }\n",
              "\n",
              "    .dataframe tbody tr th {\n",
              "        vertical-align: top;\n",
              "    }\n",
              "\n",
              "    .dataframe thead th {\n",
              "        text-align: right;\n",
              "    }\n",
              "</style>\n",
              "<table border=\"1\" class=\"dataframe\">\n",
              "  <thead>\n",
              "    <tr style=\"text-align: right;\">\n",
              "      <th></th>\n",
              "      <th></th>\n",
              "      <th></th>\n",
              "      <th>wtp/1</th>\n",
              "      <th>wtp/2</th>\n",
              "      <th>wtp/3</th>\n",
              "      <th>wtp/4</th>\n",
              "      <th>wtp/5</th>\n",
              "      <th>out_turbidity</th>\n",
              "      <th>out_hardness</th>\n",
              "      <th>out_bacteria</th>\n",
              "      <th>reward</th>\n",
              "    </tr>\n",
              "    <tr>\n",
              "      <th>in_turbidity</th>\n",
              "      <th>in_hardness</th>\n",
              "      <th>in_bacteria</th>\n",
              "      <th></th>\n",
              "      <th></th>\n",
              "      <th></th>\n",
              "      <th></th>\n",
              "      <th></th>\n",
              "      <th></th>\n",
              "      <th></th>\n",
              "      <th></th>\n",
              "      <th></th>\n",
              "    </tr>\n",
              "  </thead>\n",
              "  <tbody>\n",
              "    <tr>\n",
              "      <th rowspan=\"2\" valign=\"top\">False</th>\n",
              "      <th>False</th>\n",
              "      <th>False</th>\n",
              "      <td>pipe</td>\n",
              "      <td>sand filter</td>\n",
              "      <td>softener</td>\n",
              "      <td>pipe</td>\n",
              "      <td>pipe</td>\n",
              "      <td>False</td>\n",
              "      <td>False</td>\n",
              "      <td>False</td>\n",
              "      <td>0</td>\n",
              "    </tr>\n",
              "    <tr>\n",
              "      <th>True</th>\n",
              "      <th>False</th>\n",
              "      <td>pipe</td>\n",
              "      <td>sand filter</td>\n",
              "      <td>softener</td>\n",
              "      <td>pipe</td>\n",
              "      <td>pipe</td>\n",
              "      <td>False</td>\n",
              "      <td>True</td>\n",
              "      <td>False</td>\n",
              "      <td>0</td>\n",
              "    </tr>\n",
              "    <tr>\n",
              "      <th>True</th>\n",
              "      <th>False</th>\n",
              "      <th>False</th>\n",
              "      <td>pipe</td>\n",
              "      <td>sand filter</td>\n",
              "      <td>softener</td>\n",
              "      <td>pipe</td>\n",
              "      <td>pipe</td>\n",
              "      <td>True</td>\n",
              "      <td>False</td>\n",
              "      <td>False</td>\n",
              "      <td>0</td>\n",
              "    </tr>\n",
              "  </tbody>\n",
              "</table>\n",
              "</div>"
            ],
            "text/plain": [
              "                                     wtp/1        wtp/2     wtp/3 wtp/4 wtp/5  \\\n",
              "in_turbidity in_hardness in_bacteria                                            \n",
              "False        False       False        pipe  sand filter  softener  pipe  pipe   \n",
              "             True        False        pipe  sand filter  softener  pipe  pipe   \n",
              "True         False       False        pipe  sand filter  softener  pipe  pipe   \n",
              "\n",
              "                                      out_turbidity  out_hardness  \\\n",
              "in_turbidity in_hardness in_bacteria                                \n",
              "False        False       False                False         False   \n",
              "             True        False                False          True   \n",
              "True         False       False                 True         False   \n",
              "\n",
              "                                      out_bacteria  reward  \n",
              "in_turbidity in_hardness in_bacteria                        \n",
              "False        False       False               False       0  \n",
              "             True        False               False       0  \n",
              "True         False       False               False       0  "
            ]
          },
          "metadata": {
            "tags": []
          },
          "execution_count": 24
        }
      ]
    },
    {
      "metadata": {
        "id": "OGhvNWYqL4Zy",
        "colab_type": "text"
      },
      "cell_type": "markdown",
      "source": [
        "### Results\n",
        "\n",
        "Test all 8 cases for combinations of 3 parameters, \n",
        "\n",
        "- i.e.\n",
        "- high turbidity/low hardness/low bacteria, \n",
        "- low turbidity/high hardness/low bacteria, \n",
        "- ..."
      ]
    },
    {
      "metadata": {
        "id": "LfG7tMG4LbtF",
        "colab_type": "code",
        "outputId": "6aa940e1-1269-4fb2-ee65-ff56f836b196",
        "colab": {
          "base_uri": "https://localhost:8080/",
          "height": 364
        }
      },
      "cell_type": "code",
      "source": [
        "n_experiments2 = 8 # Total number of permutations possible by the 3 water parameters\n",
        "obs_all2 = [None] * n_experiments2\n",
        "act_all2 = [None] * n_experiments2\n",
        "rew_all2 = [None] * n_experiments2\n",
        "out_all2 = [None] * n_experiments2\n",
        "\n",
        "print(\"start experiments\")\n",
        "for i in range(n_experiments2):\n",
        "  #print(\"experiment \", i+1)\n",
        "\n",
        "  # reset\n",
        "  s0 = wqi_to_watersample(i) # convert the index to a dictionary\n",
        "  obs_initial = env.reset(s0 = s0) # use the current water input quality as a starting state\n",
        "\n",
        "  #print(\"-\"*10)\n",
        "  #print(\"obs init\", obs_initial)\n",
        "  \n",
        "  # start\n",
        "  obs_i = obs_initial\n",
        "  act_list = []\n",
        "  rew_sum = 0\n",
        "  for j in range(5): # env.n_elements\n",
        "    act_i, _ = policy.get_action(obs_i)\n",
        "    #print(\"obs_i\", obs_i, \"act i\", act_i)\n",
        "    act_list.append(act_i)\n",
        "    obs_i, rew_i, done, _ = env.step(act_i)\n",
        "    rew_sum += rew_i\n",
        "    \n",
        "    if done: break\n",
        "    \n",
        "  obs_all2[i] = obs_initial\n",
        "  out_all2[i] = obs_i\n",
        "  act_all2[i] = act_list\n",
        "  rew_all2[i] = rew_sum\n",
        "\n",
        "#env.close()\n",
        "\n",
        "df_deterministic = convert_results_to_df(obs_all2, act_all2, out_all2, rew_all2)\n",
        "\n",
        "print(\"Experiment results\")\n",
        "df_deterministic"
      ],
      "execution_count": 28,
      "outputs": [
        {
          "output_type": "stream",
          "text": [
            "start experiments\n",
            "Experiment results\n"
          ],
          "name": "stdout"
        },
        {
          "output_type": "execute_result",
          "data": {
            "text/html": [
              "<div>\n",
              "<style scoped>\n",
              "    .dataframe tbody tr th:only-of-type {\n",
              "        vertical-align: middle;\n",
              "    }\n",
              "\n",
              "    .dataframe tbody tr th {\n",
              "        vertical-align: top;\n",
              "    }\n",
              "\n",
              "    .dataframe thead th {\n",
              "        text-align: right;\n",
              "    }\n",
              "</style>\n",
              "<table border=\"1\" class=\"dataframe\">\n",
              "  <thead>\n",
              "    <tr style=\"text-align: right;\">\n",
              "      <th></th>\n",
              "      <th></th>\n",
              "      <th></th>\n",
              "      <th>wtp/1</th>\n",
              "      <th>wtp/2</th>\n",
              "      <th>wtp/3</th>\n",
              "      <th>wtp/4</th>\n",
              "      <th>wtp/5</th>\n",
              "      <th>out_turbidity</th>\n",
              "      <th>out_hardness</th>\n",
              "      <th>out_bacteria</th>\n",
              "      <th>reward</th>\n",
              "    </tr>\n",
              "    <tr>\n",
              "      <th>in_turbidity</th>\n",
              "      <th>in_hardness</th>\n",
              "      <th>in_bacteria</th>\n",
              "      <th></th>\n",
              "      <th></th>\n",
              "      <th></th>\n",
              "      <th></th>\n",
              "      <th></th>\n",
              "      <th></th>\n",
              "      <th></th>\n",
              "      <th></th>\n",
              "      <th></th>\n",
              "    </tr>\n",
              "  </thead>\n",
              "  <tbody>\n",
              "    <tr>\n",
              "      <th rowspan=\"4\" valign=\"top\">False</th>\n",
              "      <th rowspan=\"2\" valign=\"top\">False</th>\n",
              "      <th>False</th>\n",
              "      <td>pipe</td>\n",
              "      <td>pipe</td>\n",
              "      <td>pipe</td>\n",
              "      <td>pipe</td>\n",
              "      <td>pipe</td>\n",
              "      <td>False</td>\n",
              "      <td>False</td>\n",
              "      <td>False</td>\n",
              "      <td>5.0</td>\n",
              "    </tr>\n",
              "    <tr>\n",
              "      <th>True</th>\n",
              "      <td>UV</td>\n",
              "      <td>pipe</td>\n",
              "      <td>pipe</td>\n",
              "      <td>pipe</td>\n",
              "      <td>pipe</td>\n",
              "      <td>False</td>\n",
              "      <td>False</td>\n",
              "      <td>False</td>\n",
              "      <td>6.0</td>\n",
              "    </tr>\n",
              "    <tr>\n",
              "      <th rowspan=\"2\" valign=\"top\">True</th>\n",
              "      <th>False</th>\n",
              "      <td>softener</td>\n",
              "      <td>pipe</td>\n",
              "      <td>pipe</td>\n",
              "      <td>pipe</td>\n",
              "      <td>pipe</td>\n",
              "      <td>False</td>\n",
              "      <td>False</td>\n",
              "      <td>False</td>\n",
              "      <td>6.0</td>\n",
              "    </tr>\n",
              "    <tr>\n",
              "      <th>True</th>\n",
              "      <td>UV</td>\n",
              "      <td>softener</td>\n",
              "      <td>pipe</td>\n",
              "      <td>pipe</td>\n",
              "      <td>pipe</td>\n",
              "      <td>False</td>\n",
              "      <td>False</td>\n",
              "      <td>False</td>\n",
              "      <td>7.0</td>\n",
              "    </tr>\n",
              "    <tr>\n",
              "      <th rowspan=\"4\" valign=\"top\">True</th>\n",
              "      <th rowspan=\"2\" valign=\"top\">False</th>\n",
              "      <th>False</th>\n",
              "      <td>sand filter</td>\n",
              "      <td>pipe</td>\n",
              "      <td>pipe</td>\n",
              "      <td>pipe</td>\n",
              "      <td>pipe</td>\n",
              "      <td>False</td>\n",
              "      <td>False</td>\n",
              "      <td>False</td>\n",
              "      <td>6.0</td>\n",
              "    </tr>\n",
              "    <tr>\n",
              "      <th>True</th>\n",
              "      <td>sand filter</td>\n",
              "      <td>UV</td>\n",
              "      <td>pipe</td>\n",
              "      <td>pipe</td>\n",
              "      <td>pipe</td>\n",
              "      <td>False</td>\n",
              "      <td>False</td>\n",
              "      <td>False</td>\n",
              "      <td>7.0</td>\n",
              "    </tr>\n",
              "    <tr>\n",
              "      <th rowspan=\"2\" valign=\"top\">True</th>\n",
              "      <th>False</th>\n",
              "      <td>sand filter</td>\n",
              "      <td>softener</td>\n",
              "      <td>pipe</td>\n",
              "      <td>pipe</td>\n",
              "      <td>pipe</td>\n",
              "      <td>False</td>\n",
              "      <td>False</td>\n",
              "      <td>False</td>\n",
              "      <td>7.0</td>\n",
              "    </tr>\n",
              "    <tr>\n",
              "      <th>True</th>\n",
              "      <td>sand filter</td>\n",
              "      <td>UV</td>\n",
              "      <td>softener</td>\n",
              "      <td>pipe</td>\n",
              "      <td>pipe</td>\n",
              "      <td>False</td>\n",
              "      <td>False</td>\n",
              "      <td>False</td>\n",
              "      <td>8.0</td>\n",
              "    </tr>\n",
              "  </tbody>\n",
              "</table>\n",
              "</div>"
            ],
            "text/plain": [
              "                                            wtp/1     wtp/2     wtp/3 wtp/4  \\\n",
              "in_turbidity in_hardness in_bacteria                                          \n",
              "False        False       False               pipe      pipe      pipe  pipe   \n",
              "                         True                  UV      pipe      pipe  pipe   \n",
              "             True        False           softener      pipe      pipe  pipe   \n",
              "                         True                  UV  softener      pipe  pipe   \n",
              "True         False       False        sand filter      pipe      pipe  pipe   \n",
              "                         True         sand filter        UV      pipe  pipe   \n",
              "             True        False        sand filter  softener      pipe  pipe   \n",
              "                         True         sand filter        UV  softener  pipe   \n",
              "\n",
              "                                     wtp/5  out_turbidity  out_hardness  \\\n",
              "in_turbidity in_hardness in_bacteria                                      \n",
              "False        False       False        pipe          False         False   \n",
              "                         True         pipe          False         False   \n",
              "             True        False        pipe          False         False   \n",
              "                         True         pipe          False         False   \n",
              "True         False       False        pipe          False         False   \n",
              "                         True         pipe          False         False   \n",
              "             True        False        pipe          False         False   \n",
              "                         True         pipe          False         False   \n",
              "\n",
              "                                      out_bacteria  reward  \n",
              "in_turbidity in_hardness in_bacteria                        \n",
              "False        False       False               False     5.0  \n",
              "                         True                False     6.0  \n",
              "             True        False               False     6.0  \n",
              "                         True                False     7.0  \n",
              "True         False       False               False     6.0  \n",
              "                         True                False     7.0  \n",
              "             True        False               False     7.0  \n",
              "                         True                False     8.0  "
            ]
          },
          "metadata": {
            "tags": []
          },
          "execution_count": 28
        }
      ]
    },
    {
      "metadata": {
        "id": "jT62k7HHJGIc",
        "colab_type": "text"
      },
      "cell_type": "markdown",
      "source": [
        "In the table above, each row contains\n",
        "- the properties of the *input* water sample: `in_turbidity, in_hardness, in_bacteria`\n",
        "- the policy's selected water treatment plant (WTP) elements: `wtp/1, wtp/2, wtp/3, wtp/4, wtp/5`\n",
        "    - the index after the slash is the position of the element in this linear sequence of elements\n",
        "- the properties of the *output* water sample: `out_turbidity, out_hardness, out_bacteria`\n",
        "\n",
        "\n",
        "The results in the table above show that the trained designer policy proposes the correct element to treat the undesired water parameter,\n",
        "\n",
        "i.e. sand filter for turbidity, softener for hardness, UV for bacteria, or combinations thereof\n",
        "\n",
        "It also simply installs pipes when no special treatment is further needed."
      ]
    },
    {
      "metadata": {
        "id": "SyGDmWA6KLX8",
        "colab_type": "code",
        "colab": {}
      },
      "cell_type": "code",
      "source": [
        ""
      ],
      "execution_count": 0,
      "outputs": []
    }
  ]
}